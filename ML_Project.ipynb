{
  "nbformat": 4,
  "nbformat_minor": 0,
  "metadata": {
    "colab": {
      "provenance": [],
      "authorship_tag": "ABX9TyP82UBbYnNxTPvEhC02fVWQ",
      "include_colab_link": true
    },
    "kernelspec": {
      "name": "python3",
      "display_name": "Python 3"
    },
    "language_info": {
      "name": "python"
    },
    "accelerator": "GPU",
    "gpuClass": "standard"
  },
  "cells": [
    {
      "cell_type": "markdown",
      "metadata": {
        "id": "view-in-github",
        "colab_type": "text"
      },
      "source": [
        "<a href=\"https://colab.research.google.com/github/gsandhya4203/Employee-Registration/blob/main/ML_Project.ipynb\" target=\"_parent\"><img src=\"https://colab.research.google.com/assets/colab-badge.svg\" alt=\"Open In Colab\"/></a>"
      ]
    },
    {
      "cell_type": "code",
      "execution_count": null,
      "metadata": {
        "id": "-NnPQDeZplYb"
      },
      "outputs": [],
      "source": [
        "import numpy as np\n",
        "import pandas as pd\n",
        "import matplotlib.pyplot as plt\n",
        "import random\n",
        "import os\n",
        "%matplotlib inline"
      ]
    },
    {
      "cell_type": "code",
      "source": [
        "import tensorflow as tf\n",
        "from tensorflow.keras.applications import InceptionV3\n",
        "from tensorflow.keras.models import Sequential\n",
        "from tensorflow.keras.layers import Dense, Flatten, BatchNormalization,Dropout\n",
        "from tensorflow.keras.preprocessing.image import ImageDataGenerator\n",
        "from tensorflow.keras.preprocessing.image import load_img, img_to_array\n",
        "inception_weights_path = 'https://github.com/fchollet/deep-learning-models/releases/download/v0.2/inception_v3_weights_tf_dim_ordering_tf_kernels.h5'"
      ],
      "metadata": {
        "id": "_gUIjkmuqbYW"
      },
      "execution_count": null,
      "outputs": []
    },
    {
      "cell_type": "code",
      "source": [
        "!git clone https://github.com/laxmimerit/male-female-face-dataset.git"
      ],
      "metadata": {
        "colab": {
          "base_uri": "https://localhost:8080/"
        },
        "id": "oGQBCpZGthq3",
        "outputId": "4063bf4c-bbaf-4df1-84c9-16d5dbe2adbd"
      },
      "execution_count": null,
      "outputs": [
        {
          "output_type": "stream",
          "name": "stdout",
          "text": [
            "Cloning into 'male-female-face-dataset'...\n",
            "remote: Enumerating objects: 58657, done.\u001b[K\n",
            "remote: Counting objects: 100% (1/1), done.\u001b[K\n",
            "remote: Total 58657 (delta 0), reused 0 (delta 0), pack-reused 58656\u001b[K\n",
            "Receiving objects: 100% (58657/58657), 261.44 MiB | 37.68 MiB/s, done.\n",
            "Resolving deltas: 100% (1/1), done.\n",
            "Checking out files: 100% (58659/58659), done.\n"
          ]
        }
      ]
    },
    {
      "cell_type": "code",
      "source": [
        "epochs = 50\n",
        "lr = 1e-3\n",
        "batch_size=128\n",
        "data = []\n",
        "labels = []"
      ],
      "metadata": {
        "id": "GJJeMNPtuNcb"
      },
      "execution_count": null,
      "outputs": []
    },
    {
      "cell_type": "code",
      "source": [
        "size = 224"
      ],
      "metadata": {
        "id": "Xmgc0u3auetX"
      },
      "execution_count": null,
      "outputs": []
    },
    {
      "cell_type": "markdown",
      "source": [
        "Image Data Genrator\n"
      ],
      "metadata": {
        "id": "sflzBQmluk46"
      }
    },
    {
      "cell_type": "code",
      "source": [
        "train_datagen = ImageDataGenerator(horizontal_flip=True,width_shift_range=0.4,height_shift_range=0.4,zoom_range=0.3,rotation_range=20,rescale=1/255)"
      ],
      "metadata": {
        "id": "5JRYNJ0zulRT"
      },
      "execution_count": null,
      "outputs": []
    },
    {
      "cell_type": "code",
      "source": [
        "test_gen = ImageDataGenerator(rescale=1/255)"
      ],
      "metadata": {
        "id": "TJuwqSbgvcJu"
      },
      "execution_count": null,
      "outputs": []
    },
    {
      "cell_type": "code",
      "source": [
        "target_size=(size,size)\n",
        "target_size"
      ],
      "metadata": {
        "colab": {
          "base_uri": "https://localhost:8080/"
        },
        "id": "W71KEifUvjK7",
        "outputId": "baf268f0-e39b-4e1d-dcd3-c8166906aaad"
      },
      "execution_count": null,
      "outputs": [
        {
          "output_type": "execute_result",
          "data": {
            "text/plain": [
              "(224, 224)"
            ]
          },
          "metadata": {},
          "execution_count": 8
        }
      ]
    },
    {
      "cell_type": "code",
      "source": [
        "train_generator=train_datagen.flow_from_directory(directory='/content/male-female-face-dataset/Training',target_size=target_size,batch_size=batch_size,class_mode='binary')"
      ],
      "metadata": {
        "colab": {
          "base_uri": "https://localhost:8080/"
        },
        "id": "63MAZdNovq_n",
        "outputId": "b28d72cc-1a43-4aa0-ad38-6110609777ad"
      },
      "execution_count": null,
      "outputs": [
        {
          "output_type": "stream",
          "name": "stdout",
          "text": [
            "Found 47009 images belonging to 2 classes.\n"
          ]
        }
      ]
    },
    {
      "cell_type": "code",
      "source": [
        "validation_generator = test_gen.flow_from_directory(directory='/content/male-female-face-dataset/Training',target_size=target_size,batch_size=batch_size,class_mode='binary')"
      ],
      "metadata": {
        "colab": {
          "base_uri": "https://localhost:8080/"
        },
        "id": "V5zIjts7wNH7",
        "outputId": "15ad19ca-64ef-4b32-d263-438a6890e0df"
      },
      "execution_count": null,
      "outputs": [
        {
          "output_type": "stream",
          "name": "stdout",
          "text": [
            "Found 47009 images belonging to 2 classes.\n"
          ]
        }
      ]
    },
    {
      "cell_type": "code",
      "source": [
        "train_generator.class_indices"
      ],
      "metadata": {
        "colab": {
          "base_uri": "https://localhost:8080/"
        },
        "id": "ftyAi1tJwraL",
        "outputId": "b1fc1880-3b28-4efe-b22a-0ff97aba2192"
      },
      "execution_count": null,
      "outputs": [
        {
          "output_type": "execute_result",
          "data": {
            "text/plain": [
              "{'female': 0, 'male': 1}"
            ]
          },
          "metadata": {},
          "execution_count": 11
        }
      ]
    },
    {
      "cell_type": "code",
      "source": [
        "len(train_generator.classes)"
      ],
      "metadata": {
        "colab": {
          "base_uri": "https://localhost:8080/"
        },
        "id": "cqVSVYxYxlTN",
        "outputId": "2459de14-e602-4be6-d8c4-548599265bd5"
      },
      "execution_count": null,
      "outputs": [
        {
          "output_type": "execute_result",
          "data": {
            "text/plain": [
              "47009"
            ]
          },
          "metadata": {},
          "execution_count": 12
        }
      ]
    },
    {
      "cell_type": "code",
      "source": [
        "train_generator.class_mode"
      ],
      "metadata": {
        "colab": {
          "base_uri": "https://localhost:8080/",
          "height": 35
        },
        "id": "BRnryzwXxlXW",
        "outputId": "3f259a58-dc4c-4ddf-bac7-9fdb1d72970b"
      },
      "execution_count": null,
      "outputs": [
        {
          "output_type": "execute_result",
          "data": {
            "text/plain": [
              "'binary'"
            ],
            "application/vnd.google.colaboratory.intrinsic+json": {
              "type": "string"
            }
          },
          "metadata": {},
          "execution_count": 13
        }
      ]
    },
    {
      "cell_type": "code",
      "source": [
        "x,y = train_generator.next()"
      ],
      "metadata": {
        "id": "FcKmPoMLx2T7"
      },
      "execution_count": null,
      "outputs": []
    },
    {
      "cell_type": "code",
      "source": [
        "x[0].shape"
      ],
      "metadata": {
        "colab": {
          "base_uri": "https://localhost:8080/"
        },
        "id": "wpKL72VCyAVj",
        "outputId": "dc3372b0-3c32-4e75-b2dc-3b21aeaca3f8"
      },
      "execution_count": null,
      "outputs": [
        {
          "output_type": "execute_result",
          "data": {
            "text/plain": [
              "(224, 224, 3)"
            ]
          },
          "metadata": {},
          "execution_count": 15
        }
      ]
    },
    {
      "cell_type": "code",
      "source": [
        "x[0]"
      ],
      "metadata": {
        "colab": {
          "base_uri": "https://localhost:8080/"
        },
        "id": "xHTxSKryyDXb",
        "outputId": "116cff28-63fd-4dfd-850f-501515f59fa1"
      },
      "execution_count": null,
      "outputs": [
        {
          "output_type": "execute_result",
          "data": {
            "text/plain": [
              "array([[[0.22352943, 0.10980393, 0.09411766],\n",
              "        [0.22352943, 0.10980393, 0.09411766],\n",
              "        [0.22352943, 0.10980393, 0.09411766],\n",
              "        ...,\n",
              "        [0.36709753, 0.18446118, 0.14566484],\n",
              "        [0.31777713, 0.14990796, 0.11650962],\n",
              "        [0.3109364 , 0.14443536, 0.11445738]],\n",
              "\n",
              "       [[0.22352943, 0.10980393, 0.09411766],\n",
              "        [0.22352943, 0.10980393, 0.09411766],\n",
              "        [0.22352943, 0.10980393, 0.09411766],\n",
              "        ...,\n",
              "        [0.35951033, 0.17920852, 0.14099582],\n",
              "        [0.32156864, 0.15294118, 0.11764707],\n",
              "        [0.32156864, 0.15294118, 0.11764707]],\n",
              "\n",
              "       [[0.2518977 , 0.14075115, 0.12764382],\n",
              "        [0.24437287, 0.13254224, 0.11875083],\n",
              "        [0.23684804, 0.12433333, 0.10985783],\n",
              "        ...,\n",
              "        [0.3540217 , 0.17446296, 0.13641608],\n",
              "        [0.32156864, 0.15294118, 0.11764707],\n",
              "        [0.32156864, 0.15294118, 0.11764707]],\n",
              "\n",
              "       ...,\n",
              "\n",
              "       [[0.04313726, 0.02352941, 0.01176471],\n",
              "        [0.04313726, 0.02352941, 0.01176471],\n",
              "        [0.04313726, 0.02352941, 0.01176471],\n",
              "        ...,\n",
              "        [0.3254587 , 0.1764601 , 0.08625352],\n",
              "        [0.32622078, 0.17500943, 0.08554393],\n",
              "        [0.32941177, 0.16862746, 0.08235294]],\n",
              "\n",
              "       [[0.04313726, 0.02352941, 0.01176471],\n",
              "        [0.04313726, 0.02352941, 0.01176471],\n",
              "        [0.04313726, 0.02352941, 0.01176471],\n",
              "        ...,\n",
              "        [0.3254902 , 0.1764706 , 0.08627451],\n",
              "        [0.32680443, 0.17384218, 0.0849603 ],\n",
              "        [0.32941177, 0.16862746, 0.08235294]],\n",
              "\n",
              "       [[0.04313726, 0.02352941, 0.01176471],\n",
              "        [0.04313726, 0.02352941, 0.01176471],\n",
              "        [0.04313726, 0.02352941, 0.01176471],\n",
              "        ...,\n",
              "        [0.3254902 , 0.1764706 , 0.08627451],\n",
              "        [0.32738805, 0.17267491, 0.08437667],\n",
              "        [0.32941177, 0.16862746, 0.08235294]]], dtype=float32)"
            ]
          },
          "metadata": {},
          "execution_count": 16
        }
      ]
    },
    {
      "cell_type": "markdown",
      "source": [
        "Build ML model"
      ],
      "metadata": {
        "id": "mPU93hnYyU9b"
      }
    },
    {
      "cell_type": "code",
      "source": [
        "model=Sequential()\n",
        "model.add(InceptionV3(include_top=False, pooling='avg',weights='imagenet'))\n",
        "model.add(Flatten())\n",
        "model.add(BatchNormalization())\n",
        "model.add(Dense(2048,activation='relu'))\n",
        "model.add(BatchNormalization())\n",
        "model.add(Dense(1024,activation='relu'))\n",
        "model.add(BatchNormalization())\n",
        "model.add(Dense(1,activation='sigmoid'))\n",
        "model.layers[0].trainable=False\n"
      ],
      "metadata": {
        "id": "UK_3v4VWyXIr",
        "colab": {
          "base_uri": "https://localhost:8080/"
        },
        "outputId": "e851863a-5d79-4115-e34f-1bfd40da5736"
      },
      "execution_count": null,
      "outputs": [
        {
          "output_type": "stream",
          "name": "stdout",
          "text": [
            "Downloading data from https://storage.googleapis.com/tensorflow/keras-applications/inception_v3/inception_v3_weights_tf_dim_ordering_tf_kernels_notop.h5\n",
            "87910968/87910968 [==============================] - 0s 0us/step\n"
          ]
        }
      ]
    },
    {
      "cell_type": "code",
      "source": [
        "model.summary()"
      ],
      "metadata": {
        "colab": {
          "base_uri": "https://localhost:8080/"
        },
        "id": "kSxUD_mP-lZX",
        "outputId": "92a23a1c-6b1f-4c28-ee48-5bbb9988d198"
      },
      "execution_count": null,
      "outputs": [
        {
          "output_type": "stream",
          "name": "stdout",
          "text": [
            "Model: \"sequential\"\n",
            "_________________________________________________________________\n",
            " Layer (type)                Output Shape              Param #   \n",
            "=================================================================\n",
            " inception_v3 (Functional)   (None, 2048)              21802784  \n",
            "                                                                 \n",
            " flatten (Flatten)           (None, 2048)              0         \n",
            "                                                                 \n",
            " batch_normalization_94 (Bat  (None, 2048)             8192      \n",
            " chNormalization)                                                \n",
            "                                                                 \n",
            " dense (Dense)               (None, 2048)              4196352   \n",
            "                                                                 \n",
            " batch_normalization_95 (Bat  (None, 2048)             8192      \n",
            " chNormalization)                                                \n",
            "                                                                 \n",
            " dense_1 (Dense)             (None, 1024)              2098176   \n",
            "                                                                 \n",
            " batch_normalization_96 (Bat  (None, 1024)             4096      \n",
            " chNormalization)                                                \n",
            "                                                                 \n",
            " dense_2 (Dense)             (None, 1)                 1025      \n",
            "                                                                 \n",
            "=================================================================\n",
            "Total params: 28,118,817\n",
            "Trainable params: 6,305,793\n",
            "Non-trainable params: 21,813,024\n",
            "_________________________________________________________________\n"
          ]
        }
      ]
    },
    {
      "cell_type": "code",
      "source": [
        "model.compile(optimizer='adam',loss='binary_crossentropy',metrics=['accuracy'])"
      ],
      "metadata": {
        "id": "SIwzhGQP-q4d"
      },
      "execution_count": null,
      "outputs": []
    },
    {
      "cell_type": "code",
      "source": [
        "len((train_generator.filenames)), batch_size, len((train_generator.filenames))//batch_size, epochs"
      ],
      "metadata": {
        "colab": {
          "base_uri": "https://localhost:8080/"
        },
        "id": "ui8ut9FL_bEF",
        "outputId": "0c107458-3b5b-4aa1-d875-ad0072dccc2e"
      },
      "execution_count": null,
      "outputs": [
        {
          "output_type": "execute_result",
          "data": {
            "text/plain": [
              "(47009, 128, 367, 50)"
            ]
          },
          "metadata": {},
          "execution_count": 20
        }
      ]
    },
    {
      "cell_type": "code",
      "source": [
        "model.fit(train_generator, steps_per_epoch=len(train_generator.filenames)//batch_size,\n",
        "          epochs=2, validation_data=validation_generator, validation_steps=len(validation_generator.filenames)//batch_size)"
      ],
      "metadata": {
        "colab": {
          "base_uri": "https://localhost:8080/"
        },
        "id": "uFr9QLYu_0yd",
        "outputId": "70afa74f-edff-4121-e74e-678d702cfa27"
      },
      "execution_count": null,
      "outputs": [
        {
          "output_type": "stream",
          "name": "stdout",
          "text": [
            "Epoch 1/2\n",
            "367/367 [==============================] - 596s 2s/step - loss: 0.3762 - accuracy: 0.8481 - val_loss: 0.2735 - val_accuracy: 0.8865\n",
            "Epoch 2/2\n",
            "367/367 [==============================] - 580s 2s/step - loss: 0.3079 - accuracy: 0.8697 - val_loss: 0.3689 - val_accuracy: 0.8612\n"
          ]
        },
        {
          "output_type": "execute_result",
          "data": {
            "text/plain": [
              "<keras.callbacks.History at 0x7f0fc60490d0>"
            ]
          },
          "metadata": {},
          "execution_count": 21
        }
      ]
    },
    {
      "cell_type": "markdown",
      "source": [
        "Test Model"
      ],
      "metadata": {
        "id": "DYmoraDbneJh"
      }
    },
    {
      "cell_type": "code",
      "source": [
        "#img_path = '/content/male-female-face-dataset/Validation/female/112956.jpg.jpg'\n",
        "img_path = '/content/hod.jpg'"
      ],
      "metadata": {
        "id": "mwIfLOp1DM82"
      },
      "execution_count": null,
      "outputs": []
    },
    {
      "cell_type": "code",
      "source": [
        "img = load_img(img_path, target_size=(size, size, 3))\n",
        "plt.imshow(img)"
      ],
      "metadata": {
        "id": "Qcas9iGRDNOd",
        "colab": {
          "base_uri": "https://localhost:8080/",
          "height": 286
        },
        "outputId": "060e44a9-d005-45a4-a427-a9d219a1d4bf"
      },
      "execution_count": null,
      "outputs": [
        {
          "output_type": "execute_result",
          "data": {
            "text/plain": [
              "<matplotlib.image.AxesImage at 0x7fddf5b8bb80>"
            ]
          },
          "metadata": {},
          "execution_count": 78
        },
        {
          "output_type": "display_data",
          "data": {
            "text/plain": [
              "<Figure size 432x288 with 1 Axes>"
            ],
            "image/png": "[encoded data removed]"
          },
          "metadata": {
            "needs_background": "light"
          }
        }
      ]
    },
    {
      "cell_type": "code",
      "source": [],
      "metadata": {
        "id": "P1DBzypZ3Lsr"
      },
      "execution_count": null,
      "outputs": []
    },
    {
      "cell_type": "code",
      "source": [
        "img = img_to_array(img)"
      ],
      "metadata": {
        "id": "nA7I3zEBDNUF"
      },
      "execution_count": null,
      "outputs": []
    },
    {
      "cell_type": "code",
      "source": [
        "img"
      ],
      "metadata": {
        "id": "-5O7_nDbDNjd",
        "colab": {
          "base_uri": "https://localhost:8080/"
        },
        "outputId": "662fc970-018f-4432-81f6-fbae5b022386"
      },
      "execution_count": null,
      "outputs": [
        {
          "output_type": "execute_result",
          "data": {
            "text/plain": [
              "array([[[ 60.,  59.,  54.],\n",
              "        [ 73.,  72.,  67.],\n",
              "        [ 65.,  66.,  61.],\n",
              "        ...,\n",
              "        [ 97.,  90.,  82.],\n",
              "        [100.,  93.,  87.],\n",
              "        [ 93.,  88.,  82.]],\n",
              "\n",
              "       [[ 61.,  58.,  53.],\n",
              "        [ 65.,  62.,  57.],\n",
              "        [ 65.,  66.,  61.],\n",
              "        ...,\n",
              "        [100.,  93.,  85.],\n",
              "        [102.,  95.,  89.],\n",
              "        [ 99.,  94.,  88.]],\n",
              "\n",
              "       [[ 64.,  61.,  54.],\n",
              "        [ 71.,  68.,  63.],\n",
              "        [ 86.,  85.,  80.],\n",
              "        ...,\n",
              "        [100.,  93.,  83.],\n",
              "        [102.,  95.,  87.],\n",
              "        [101.,  96.,  90.]],\n",
              "\n",
              "       ...,\n",
              "\n",
              "       [[180., 179., 151.],\n",
              "        [170., 169., 141.],\n",
              "        [176., 175., 145.],\n",
              "        ...,\n",
              "        [100.,  90.,  78.],\n",
              "        [104.,  94.,  85.],\n",
              "        [100.,  93.,  83.]],\n",
              "\n",
              "       [[176., 175., 147.],\n",
              "        [168., 167., 139.],\n",
              "        [174., 173., 143.],\n",
              "        ...,\n",
              "        [100.,  90.,  78.],\n",
              "        [106.,  96.,  87.],\n",
              "        [ 95.,  88.,  78.]],\n",
              "\n",
              "       [[175., 174., 144.],\n",
              "        [169., 165., 136.],\n",
              "        [170., 166., 137.],\n",
              "        ...,\n",
              "        [103.,  95.,  82.],\n",
              "        [104.,  94.,  84.],\n",
              "        [104.,  98.,  86.]]], dtype=float32)"
            ]
          },
          "metadata": {},
          "execution_count": 81
        }
      ]
    },
    {
      "cell_type": "code",
      "source": [
        "img = img/255.0"
      ],
      "metadata": {
        "id": "ceGB8lsCDNrt"
      },
      "execution_count": null,
      "outputs": []
    },
    {
      "cell_type": "code",
      "source": [
        "img = img.reshape(1, size, size, 3)"
      ],
      "metadata": {
        "id": "FfiK7zDJDNxX"
      },
      "execution_count": null,
      "outputs": []
    },
    {
      "cell_type": "code",
      "source": [
        "img.shape"
      ],
      "metadata": {
        "id": "om-VvX1XDN7V",
        "colab": {
          "base_uri": "https://localhost:8080/"
        },
        "outputId": "4589a257-060b-48d9-db88-b3f42968f812"
      },
      "execution_count": null,
      "outputs": [
        {
          "output_type": "execute_result",
          "data": {
            "text/plain": [
              "(1, 224, 224, 3)"
            ]
          },
          "metadata": {},
          "execution_count": 84
        }
      ]
    },
    {
      "cell_type": "code",
      "source": [
        "model.predict(img)"
      ],
      "metadata": {
        "colab": {
          "base_uri": "https://localhost:8080/"
        },
        "id": "GaALFWSMpDMx",
        "outputId": "ebf6401e-78c7-4c05-db7d-8fab08db0454"
      },
      "execution_count": null,
      "outputs": [
        {
          "output_type": "stream",
          "name": "stdout",
          "text": [
            "1/1 [==============================] - 0s 24ms/step\n"
          ]
        },
        {
          "output_type": "execute_result",
          "data": {
            "text/plain": [
              "array([[0.94392353]], dtype=float32)"
            ]
          },
          "metadata": {},
          "execution_count": 85
        }
      ]
    },
    {
      "cell_type": "code",
      "source": [
        "train_generator.class_indices"
      ],
      "metadata": {
        "colab": {
          "base_uri": "https://localhost:8080/"
        },
        "id": "AhKYwGBZpTIp",
        "outputId": "297d70ea-bd5e-4d95-bdf3-b78651c2aeac"
      },
      "execution_count": null,
      "outputs": [
        {
          "output_type": "execute_result",
          "data": {
            "text/plain": [
              "{'female': 0, 'male': 1}"
            ]
          },
          "metadata": {},
          "execution_count": 86
        }
      ]
    },
    {
      "cell_type": "code",
      "source": [
        "def get_classes(data):\n",
        "  prob = model.predict(img)[0][0]\n",
        "\n",
        "  if prob<0.5:\n",
        "    return 'female', (1 - prob)\n",
        "  else:\n",
        "    return 'male', prob"
      ],
      "metadata": {
        "id": "SmIOqfdkpTM6"
      },
      "execution_count": null,
      "outputs": []
    },
    {
      "cell_type": "code",
      "source": [
        "get_classes(img)"
      ],
      "metadata": {
        "colab": {
          "base_uri": "https://localhost:8080/"
        },
        "id": "RRwW29XrpTPC",
        "outputId": "8049431d-2437-4aa5-bc88-8dbbf7475603"
      },
      "execution_count": null,
      "outputs": [
        {
          "output_type": "stream",
          "name": "stdout",
          "text": [
            "1/1 [==============================] - 0s 24ms/step\n"
          ]
        },
        {
          "output_type": "execute_result",
          "data": {
            "text/plain": [
              "('male', 0.94392353)"
            ]
          },
          "metadata": {},
          "execution_count": 88
        }
      ]
    },
    {
      "cell_type": "code",
      "source": [],
      "metadata": {
        "id": "BHPRbeyn1okc"
      },
      "execution_count": null,
      "outputs": []
    }
  ]
}